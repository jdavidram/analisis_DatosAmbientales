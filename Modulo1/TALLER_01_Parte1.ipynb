{
 "cells": [
  {
   "cell_type": "markdown",
   "metadata": {},
   "source": [
    "# Taller 1 parte 1"
   ]
  },
  {
   "cell_type": "markdown",
   "metadata": {},
   "source": [
    "1. La función square toma un número entero y devuelve el cuadrado de ese valor entero. Escribe un código para asignar a una variable llamada cuadrado el valor de 5*5 (cinco al cuadrado). Utiliza la función cuadrado, en lugar de simplemente multiplicar con *.\n"
   ]
  },
  {
   "cell_type": "code",
   "execution_count": 6,
   "metadata": {},
   "outputs": [],
   "source": [
    "def square(integer):\n",
    "    xyz = integer**2\n",
    "    return xyz"
   ]
  },
  {
   "cell_type": "code",
   "execution_count": 10,
   "metadata": {},
   "outputs": [
    {
     "name": "stdout",
     "output_type": "stream",
     "text": [
      "25\n"
     ]
    }
   ],
   "source": [
    "cuadrado = square(5)\n",
    "\n",
    "print(cuadrado)"
   ]
  },
  {
   "cell_type": "markdown",
   "metadata": {},
   "source": [
    "2. ¿Que tipo de dato es ‘this is what kind of data’?"
   ]
  },
  {
   "cell_type": "raw",
   "metadata": {},
   "source": [
    "A. Character\n",
    "B. Integer\n",
    "C. Float\n",
    "D. String"
   ]
  },
  {
   "cell_type": "markdown",
   "metadata": {},
   "source": [
    "> D. String"
   ]
  },
  {
   "cell_type": "markdown",
   "metadata": {},
   "source": [
    "3. ¿Cómo se puede determinar el tipo de una variable?"
   ]
  },
  {
   "cell_type": "raw",
   "metadata": {},
   "source": [
    "A. Imprima el valor y determine el tipo de datos basándose en el valor impreso.\n",
    "B. Utilizar la función de tipo\n",
    "C. Utilizarla en una ecuación conocida e imprimir el resultado\n",
    "D. Mirar la declaración de la variable"
   ]
  },
  {
   "cell_type": "markdown",
   "metadata": {},
   "source": [
    "> B. Utilizar la función de tipo"
   ]
  },
  {
   "cell_type": "markdown",
   "metadata": {},
   "source": [
    "4. ¿Qué valor se imprime cuando se ejecuta la siguiente sentencia?"
   ]
  },
  {
   "cell_type": "raw",
   "metadata": {},
   "source": [
    "print(int(53.785))\n",
    "A. No se imprime nada. Se genera un error de ejecución.\n",
    "B. 53\n",
    "C. 54\n",
    "D. 53.785"
   ]
  },
  {
   "cell_type": "markdown",
   "metadata": {},
   "source": [
    "> B. 53"
   ]
  },
  {
   "cell_type": "markdown",
   "metadata": {},
   "source": [
    "5. ¿Cuál es la diferencia entre operando y operador?"
   ]
  },
  {
   "cell_type": "markdown",
   "metadata": {},
   "source": [
    "> El operador es la operación matematica que se va a realizar y los operandos son las variables a las cuales se les va a realizar la operacion matematica"
   ]
  },
  {
   "cell_type": "markdown",
   "metadata": {},
   "source": [
    "6. Explique las diferencias que existen entre los siguientes operadores:\n",
    "/, //, %\n"
   ]
  },
  {
   "cell_type": "markdown",
   "metadata": {},
   "source": [
    "> / : Regresa la division exacta\n",
    "\n",
    "> // : Regresa la parte entera de la division\n",
    "\n",
    "> % :  Regresa el residuo de la division"
   ]
  },
  {
   "cell_type": "markdown",
   "metadata": {},
   "source": [
    "7. Explique para qué sirve la función round(), explique que argumentos o parametros lleva"
   ]
  },
  {
   "cell_type": "markdown",
   "metadata": {},
   "source": [
    "> La funcion round(num, aprox), me retorna el numero 'num' aproximado a 'aprox' cifras decimales"
   ]
  },
  {
   "cell_type": "markdown",
   "metadata": {},
   "source": [
    "8. Detalle paso a paso el orden de precedencia del siguiente código:"
   ]
  },
  {
   "cell_type": "code",
   "execution_count": 1,
   "metadata": {},
   "outputs": [
    {
     "data": {
      "text/plain": [
       "64"
      ]
     },
     "execution_count": 1,
     "metadata": {},
     "output_type": "execute_result"
    }
   ],
   "source": [
    "((((1+1)+2)+2)+2)**2**1**2"
   ]
  },
  {
   "cell_type": "markdown",
   "metadata": {},
   "source": [
    "> 1. ((((2) + 2)+2)+2)**2**1**2\n",
    "> 2. (((4)+2)+2)**2**1**2\n",
    "> 3. ((6)+2)**2**1**2\n",
    "> 4. (8)**2**1**2\n",
    "> 5. (8)**2\n",
    "> 6. 64"
   ]
  },
  {
   "cell_type": "markdown",
   "metadata": {},
   "source": [
    "9. Detalle paso a paso el orden de precedencia del siguiente código:"
   ]
  },
  {
   "cell_type": "code",
   "execution_count": 1,
   "metadata": {},
   "outputs": [
    {
     "data": {
      "text/plain": [
       "-8"
      ]
     },
     "execution_count": 1,
     "metadata": {},
     "output_type": "execute_result"
    }
   ],
   "source": [
    "(5*(2-5)//2)**1**2"
   ]
  },
  {
   "cell_type": "markdown",
   "metadata": {},
   "source": [
    "> 1. (5*(-3)//2)**1**2\n",
    "> 2. (-15//2)**1**2\n",
    "> 3. (-8)**1**2\n",
    "> 4. -8"
   ]
  },
  {
   "cell_type": "code",
   "execution_count": 7,
   "metadata": {},
   "outputs": [
    {
     "data": {
      "text/plain": [
       "-7.5"
      ]
     },
     "execution_count": 7,
     "metadata": {},
     "output_type": "execute_result"
    }
   ],
   "source": [
    "5*(2-5)/2"
   ]
  },
  {
   "cell_type": "markdown",
   "metadata": {},
   "source": [
    "> 1. 5*(-3)/2\n",
    "> 2. -15/2\n",
    "> 3. -7.5"
   ]
  },
  {
   "cell_type": "markdown",
   "metadata": {},
   "source": [
    "10. Cree una función que eleve al cuadrado un parámetro x y que también eleve al cubo un parámetro y. \n",
    "Luego la función debe imprimir el resultado indicando quien es x y quien es y\n",
    "\n",
    "Ejemplo:\n",
    "x = 2\n",
    "y = 1\n",
    "\n",
    "La función debe imprimir \n",
    "x al cuadrado es 4;\n",
    "y al cubo es 1\n"
   ]
  },
  {
   "cell_type": "code",
   "execution_count": 7,
   "metadata": {},
   "outputs": [
    {
     "name": "stdout",
     "output_type": "stream",
     "text": [
      "2 al cuadrado es 4; 1 al cubo es 1\n"
     ]
    }
   ],
   "source": [
    "def square_cube(x, y):\n",
    "    x0 = x**2\n",
    "    y0 = y**3\n",
    "    ans = str(x) + ' al cuadrado es ' + str(x0) + '; ' + str(y) + ' al cubo es ' + str(y0)\n",
    "    return ans\n",
    "\n",
    "print(square_cube(2, 1))"
   ]
  }
 ],
 "metadata": {
  "colab": {
   "authorship_tag": "ABX9TyOeuEViNhytOY/XHt2Hvla0",
   "name": "Week_1.ipynb",
   "provenance": []
  },
  "kernelspec": {
   "display_name": "Python 3 (ipykernel)",
   "language": "python",
   "name": "python3"
  },
  "language_info": {
   "codemirror_mode": {
    "name": "ipython",
    "version": 3
   },
   "file_extension": ".py",
   "mimetype": "text/x-python",
   "name": "python",
   "nbconvert_exporter": "python",
   "pygments_lexer": "ipython3",
   "version": "3.9.13"
  }
 },
 "nbformat": 4,
 "nbformat_minor": 4
}
