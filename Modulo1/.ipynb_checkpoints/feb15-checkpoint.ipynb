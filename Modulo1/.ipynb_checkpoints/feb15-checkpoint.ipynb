{
 "cells": [
  {
   "cell_type": "markdown",
   "id": "15b19909-7df9-4eee-bd80-8c92abb87d5a",
   "metadata": {},
   "source": [
    "# Valores y tipos de datos\n",
    "\n",
    "* Entero ('int' >> Integer)\n",
    "* Decimal ('float' >> Floating point)\n",
    "* Texto ('str' >> String)\n",
    "\n",
    "## Función type\n",
    "> type(var) >> Tipo de la variable 'var'\n"
   ]
  },
  {
   "cell_type": "code",
   "execution_count": 16,
   "id": "c13729dd-77da-4a5e-8dcf-87651ca4172a",
   "metadata": {},
   "outputs": [
    {
     "name": "stdout",
     "output_type": "stream",
     "text": [
      "5 <class 'int'>\n",
      "5.5 <class 'float'>\n",
      "55 <class 'str'>\n",
      "range(0, 6) <class 'range'>\n",
      "(1, 2, 3) <class 'tuple'>\n",
      "[1, 2, 3] <class 'list'>\n",
      "{'one': 1, 'two': 2, 'three': 3} <class 'dict'>\n",
      "True <class 'bool'>\n",
      "None <class 'NoneType'>\n",
      "(3+2j) <class 'complex'>\n"
     ]
    }
   ],
   "source": [
    "print(5, type(5))\n",
    "print(5.5, type(5.5))\n",
    "print('55', type('55'))\n",
    "\n",
    "print(\n",
    "    range(6),\n",
    "    type(range(6))\n",
    ")\n",
    "print(\n",
    "    (1,2,3),\n",
    "    type((1, 2, 3))\n",
    ")\n",
    "print(\n",
    "    [1,2,3],\n",
    "    type([1, 2, 3])\n",
    ")\n",
    "print(\n",
    "    {'one': 1, 'two': 2, 'three': 3},\n",
    "    type({'one': 1, 'two': 2, 'three': 3})\n",
    ")\n",
    "print(\n",
    "    True,\n",
    "    type(True)\n",
    ")\n",
    "print(\n",
    "    None,\n",
    "    type(None)\n",
    ")\n",
    "\n",
    "print(\n",
    "    (3+2j),\n",
    "    type(3+2j)\n",
    ")\n"
   ]
  },
  {
   "cell_type": "markdown",
   "id": "57451ade-daff-437f-a5a6-eebb8a304733",
   "metadata": {},
   "source": [
    "### Para imprimir un texto con comillas internas"
   ]
  },
  {
   "cell_type": "code",
   "execution_count": 7,
   "id": "c0f58a80-8314-48b7-805e-d04acecbbf5a",
   "metadata": {},
   "outputs": [
    {
     "name": "stdout",
     "output_type": "stream",
     "text": [
      "Hola Mundo!!\n",
      "Aleja's lover\n",
      "Mixing \"Hola mundo!!\" con \"Aleja's lover\"\n",
      "Mixing \"Hola mundo!!\" con \"Aleja's lover\" \n"
     ]
    }
   ],
   "source": [
    "print('Hola Mundo!!')\n",
    "print(\"Aleja's lover\")\n",
    "print('''Mixing \"Hola mundo!!\" con \"Aleja's lover\"''')\n",
    "print(\"\"\"Mixing \"Hola mundo!!\" con \"Aleja's lover\" \"\"\")"
   ]
  },
  {
   "cell_type": "markdown",
   "id": "3d5cb5dd-9ce3-40af-8b47-43fc84d066b8",
   "metadata": {},
   "source": [
    "### range vs np.arange"
   ]
  },
  {
   "cell_type": "code",
   "execution_count": 17,
   "id": "495ef3b5-b121-42f8-918e-d4daf19d5607",
   "metadata": {},
   "outputs": [
    {
     "name": "stdout",
     "output_type": "stream",
     "text": [
      "Numpy: [0 1 2 3 4 5 6 7 8 9]\n",
      "Python: range(0, 10)\n"
     ]
    }
   ],
   "source": [
    "import numpy as np\n",
    "print('Numpy:', np.arange(0, 10, 1))\n",
    "\n",
    "print('Python:', range(0, 10, 1))"
   ]
  },
  {
   "cell_type": "markdown",
   "id": "44e7dc9f-2da2-47db-b3cb-d7b17c679c18",
   "metadata": {},
   "source": [
    "## Funciones"
   ]
  },
  {
   "cell_type": "code",
   "execution_count": 31,
   "id": "8c36a712-8796-41a8-a182-7003b166ef95",
   "metadata": {},
   "outputs": [
    {
     "name": "stdout",
     "output_type": "stream",
     "text": [
      "9\n"
     ]
    }
   ],
   "source": [
    "def cuadrado(x):\n",
    "    return x**2\n",
    "\n",
    "print(cuadrado(3))"
   ]
  }
 ],
 "metadata": {
  "kernelspec": {
   "display_name": "Python 3 (ipykernel)",
   "language": "python",
   "name": "python3"
  },
  "language_info": {
   "codemirror_mode": {
    "name": "ipython",
    "version": 3
   },
   "file_extension": ".py",
   "mimetype": "text/x-python",
   "name": "python",
   "nbconvert_exporter": "python",
   "pygments_lexer": "ipython3",
   "version": "3.9.13"
  }
 },
 "nbformat": 4,
 "nbformat_minor": 5
}
